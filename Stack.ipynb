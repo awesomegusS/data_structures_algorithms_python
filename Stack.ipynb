{
 "cells": [
  {
   "cell_type": "code",
   "execution_count": 1,
   "id": "bb26abfe",
   "metadata": {},
   "outputs": [],
   "source": [
    "from collections import deque\n",
    "stack = deque() # deque has functionality that emulates python lists"
   ]
  },
  {
   "cell_type": "code",
   "execution_count": 2,
   "id": "ed914f78",
   "metadata": {},
   "outputs": [
    {
     "data": {
      "text/plain": [
       "['__add__',\n",
       " '__bool__',\n",
       " '__class__',\n",
       " '__contains__',\n",
       " '__copy__',\n",
       " '__delattr__',\n",
       " '__delitem__',\n",
       " '__dir__',\n",
       " '__doc__',\n",
       " '__eq__',\n",
       " '__format__',\n",
       " '__ge__',\n",
       " '__getattribute__',\n",
       " '__getitem__',\n",
       " '__gt__',\n",
       " '__hash__',\n",
       " '__iadd__',\n",
       " '__imul__',\n",
       " '__init__',\n",
       " '__init_subclass__',\n",
       " '__iter__',\n",
       " '__le__',\n",
       " '__len__',\n",
       " '__lt__',\n",
       " '__mul__',\n",
       " '__ne__',\n",
       " '__new__',\n",
       " '__reduce__',\n",
       " '__reduce_ex__',\n",
       " '__repr__',\n",
       " '__reversed__',\n",
       " '__rmul__',\n",
       " '__setattr__',\n",
       " '__setitem__',\n",
       " '__sizeof__',\n",
       " '__str__',\n",
       " '__subclasshook__',\n",
       " 'append',\n",
       " 'appendleft',\n",
       " 'clear',\n",
       " 'copy',\n",
       " 'count',\n",
       " 'extend',\n",
       " 'extendleft',\n",
       " 'index',\n",
       " 'insert',\n",
       " 'maxlen',\n",
       " 'pop',\n",
       " 'popleft',\n",
       " 'remove',\n",
       " 'reverse',\n",
       " 'rotate']"
      ]
     },
     "execution_count": 2,
     "metadata": {},
     "output_type": "execute_result"
    }
   ],
   "source": [
    "dir(stack)"
   ]
  },
  {
   "cell_type": "markdown",
   "id": "46ed5c7d",
   "metadata": {},
   "source": [
    "### Implementing Stack"
   ]
  },
  {
   "cell_type": "code",
   "execution_count": 3,
   "id": "a67d6ef2",
   "metadata": {},
   "outputs": [],
   "source": [
    "class Stack:\n",
    "    def __init__(self):\n",
    "        self.container = deque()\n",
    "        \n",
    "    def push(self, val):\n",
    "        self.container.append(val)\n",
    "    \n",
    "    def pop(self):\n",
    "        return self.container.pop()\n",
    "    \n",
    "    def peek(self):\n",
    "        return self.container[-1]\n",
    "    \n",
    "    def is_empty(self):\n",
    "        return len(self.container)==0\n",
    "    \n",
    "    def size(self):\n",
    "        return len(self.container)\n",
    "    \n",
    "    def reverse(self):\n",
    "        return self.container.reverse()\n",
    "    \n",
    "    def print_stack(self):\n",
    "        return self.container"
   ]
  },
  {
   "cell_type": "code",
   "execution_count": 4,
   "id": "e1a1e58b",
   "metadata": {
    "scrolled": true
   },
   "outputs": [
    {
     "data": {
      "text/plain": [
       "deque([6, 5])"
      ]
     },
     "execution_count": 4,
     "metadata": {},
     "output_type": "execute_result"
    }
   ],
   "source": [
    "s = Stack()\n",
    "s.push(5)\n",
    "s.push(6)\n",
    "s.reverse()\n",
    "s.print_stack()"
   ]
  },
  {
   "cell_type": "markdown",
   "id": "a9a55914",
   "metadata": {},
   "source": [
    "### Excercise"
   ]
  },
  {
   "cell_type": "markdown",
   "id": "ad920220",
   "metadata": {},
   "source": [
    "##### Using stack write a func to reverse a str"
   ]
  },
  {
   "cell_type": "code",
   "execution_count": 36,
   "id": "907faf0c",
   "metadata": {},
   "outputs": [
    {
     "name": "stdout",
     "output_type": "stream",
     "text": [
      "91-DIVOC ereuqnoc lliw eW\n"
     ]
    }
   ],
   "source": [
    "def reverse_string(string):\n",
    "    rev_str = ''\n",
    "    s = Stack()\n",
    "    for char in string:\n",
    "        s.push(char)\n",
    "    for idx in range(s.size()):\n",
    "        char = s.pop()\n",
    "        rev_str += char\n",
    "    return rev_str\n",
    "\n",
    "print(reverse_string('We will conquere COVID-19'))"
   ]
  },
  {
   "cell_type": "code",
   "execution_count": 56,
   "id": "f488efc2",
   "metadata": {},
   "outputs": [
    {
     "data": {
      "text/plain": [
       "deque(['9',\n",
       "       '1',\n",
       "       '-',\n",
       "       'D',\n",
       "       'I',\n",
       "       'V',\n",
       "       'O',\n",
       "       'C',\n",
       "       ' ',\n",
       "       'r',\n",
       "       'e',\n",
       "       'u',\n",
       "       'q',\n",
       "       'n',\n",
       "       'o',\n",
       "       'c',\n",
       "       ' ',\n",
       "       'l',\n",
       "       'l',\n",
       "       'i',\n",
       "       'w',\n",
       "       ' ',\n",
       "       'e',\n",
       "       'W'])"
      ]
     },
     "execution_count": 56,
     "metadata": {},
     "output_type": "execute_result"
    }
   ],
   "source": [
    "def reverse_string(string):\n",
    "    s = Stack()\n",
    "    for char in string:\n",
    "        s.push(char)\n",
    "    s.reverse()\n",
    "    return s.print_stack()\n",
    "\n",
    "reverse_string('We will conquer COVID-19')"
   ]
  },
  {
   "cell_type": "markdown",
   "id": "3c72fab9",
   "metadata": {},
   "source": [
    "##### Parenthesis checker"
   ]
  },
  {
   "cell_type": "code",
   "execution_count": 67,
   "id": "3f264999",
   "metadata": {},
   "outputs": [],
   "source": [
    "def is_balanced(string):\n",
    "    braces_dict = {}\n",
    "    braces = '[ ] ( ) { }'.split(' ')\n",
    "    s = Stack()\n",
    "    for char in string:\n",
    "        s.push(char)\n",
    "        \n",
    "    while s.is_empty() is False:\n",
    "        item = s.pop()\n",
    "        if item in braces:\n",
    "            braces_dict.setdefault(item, 0)\n",
    "            braces_dict[item] += 1\n",
    "    print(braces_dict)\n",
    "    if braces_dict['('] != braces_dict[')'] and braces_dict['['] != braces_dict[']'] and braces_dict['{'] != braces_dict['}']:\n",
    "        return False\n",
    "    else:\n",
    "        return True\n",
    "    "
   ]
  },
  {
   "cell_type": "code",
   "execution_count": 68,
   "id": "aa630db2",
   "metadata": {},
   "outputs": [
    {
     "name": "stdout",
     "output_type": "stream",
     "text": [
      "{')': 1, '}': 1, '{': 1, '(': 1}\n"
     ]
    },
    {
     "data": {
      "text/plain": [
       "True"
      ]
     },
     "execution_count": 68,
     "metadata": {},
     "output_type": "execute_result"
    }
   ],
   "source": [
    "is_balanced(\"({a+b})\")"
   ]
  },
  {
   "cell_type": "code",
   "execution_count": 69,
   "id": "589dfa7c",
   "metadata": {},
   "outputs": [
    {
     "name": "stdout",
     "output_type": "stream",
     "text": [
      "{'{': 1, '}': 1, '(': 2, ')': 2}\n"
     ]
    },
    {
     "data": {
      "text/plain": [
       "True"
      ]
     },
     "execution_count": 69,
     "metadata": {},
     "output_type": "execute_result"
    }
   ],
   "source": [
    "is_balanced(\"))((a+b}{\")"
   ]
  },
  {
   "cell_type": "code",
   "execution_count": null,
   "id": "bdd80683",
   "metadata": {},
   "outputs": [],
   "source": []
  }
 ],
 "metadata": {
  "kernelspec": {
   "display_name": "Py3.8.6 (main env)",
   "language": "python",
   "name": "python3"
  },
  "language_info": {
   "codemirror_mode": {
    "name": "ipython",
    "version": 3
   },
   "file_extension": ".py",
   "mimetype": "text/x-python",
   "name": "python",
   "nbconvert_exporter": "python",
   "pygments_lexer": "ipython3",
   "version": "3.8.6"
  }
 },
 "nbformat": 4,
 "nbformat_minor": 5
}
